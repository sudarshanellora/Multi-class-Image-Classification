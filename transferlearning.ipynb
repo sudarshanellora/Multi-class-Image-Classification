{
 "cells": [
  {
   "cell_type": "code",
   "execution_count": 2,
   "metadata": {},
   "outputs": [],
   "source": [
    "import cv2\n",
    "import os\n",
    "import PIL\n",
    "import tensorflow_hub as hub"
   ]
  },
  {
   "cell_type": "code",
   "execution_count": 3,
   "metadata": {},
   "outputs": [],
   "source": [
    "data_dir =r\"F:\\project\\COVID-19_Radiography_Dataset\\data\""
   ]
  },
  {
   "cell_type": "code",
   "execution_count": 4,
   "metadata": {},
   "outputs": [
    {
     "data": {
      "text/plain": [
       "WindowsPath('F:/project/COVID-19_Radiography_Dataset/data')"
      ]
     },
     "execution_count": 4,
     "metadata": {},
     "output_type": "execute_result"
    }
   ],
   "source": [
    "import pathlib\n",
    "data_dir = pathlib.Path(data_dir)\n",
    "data_dir"
   ]
  },
  {
   "cell_type": "code",
   "execution_count": 6,
   "metadata": {},
   "outputs": [
    {
     "data": {
      "text/plain": [
       "1000"
      ]
     },
     "execution_count": 6,
     "metadata": {},
     "output_type": "execute_result"
    }
   ],
   "source": [
    "import random \n",
    "COVID = list(data_dir.glob('COVID/*'))\n",
    "COVID = random.sample(COVID,1000)\n",
    "len(COVID)"
   ]
  },
  {
   "cell_type": "code",
   "execution_count": 7,
   "metadata": {},
   "outputs": [
    {
     "data": {
      "text/plain": [
       "1000"
      ]
     },
     "execution_count": 7,
     "metadata": {},
     "output_type": "execute_result"
    }
   ],
   "source": [
    "Lung_Opacity= list(data_dir.glob('Lung_Opacity/*'))\n",
    "Lung_Opacity = random.sample(Lung_Opacity,1000)\n",
    "len(Lung_Opacity)"
   ]
  },
  {
   "cell_type": "code",
   "execution_count": 8,
   "metadata": {},
   "outputs": [
    {
     "data": {
      "text/plain": [
       "1000"
      ]
     },
     "execution_count": 8,
     "metadata": {},
     "output_type": "execute_result"
    }
   ],
   "source": [
    "Normal = list(data_dir.glob('Normal/*'))\n",
    "Normal = random.sample(Normal,1000)\n",
    "len(Normal)"
   ]
  },
  {
   "cell_type": "code",
   "execution_count": 10,
   "metadata": {},
   "outputs": [
    {
     "data": {
      "text/plain": [
       "1000"
      ]
     },
     "execution_count": 10,
     "metadata": {},
     "output_type": "execute_result"
    }
   ],
   "source": [
    "Viral_Pneumonia = list(data_dir.glob('Viral Pneumonia/*'))\n",
    "Viral_Pneumonia = random.sample(Viral_Pneumonia,1000)\n",
    "len(Viral_Pneumonia)"
   ]
  },
  {
   "cell_type": "code",
   "execution_count": 11,
   "metadata": {},
   "outputs": [],
   "source": [
    "images_dict = {\n",
    "    'COVID': COVID,\n",
    "    'Lung_Opacity': Lung_Opacity,\n",
    "    'Normal': Normal,\n",
    "    'Viral_Pneumonia': Viral_Pneumonia,\n",
    "    \n",
    "}"
   ]
  },
  {
   "cell_type": "code",
   "execution_count": 12,
   "metadata": {},
   "outputs": [],
   "source": [
    "labels_dict = {\n",
    "    'COVID': 0,\n",
    "    'Lung_Opacity':1,\n",
    "    'Normal': 2,\n",
    "    'Viral_Pneumonia': 3,\n",
    "    \n",
    "}"
   ]
  },
  {
   "cell_type": "code",
   "execution_count": 14,
   "metadata": {},
   "outputs": [],
   "source": [
    "import numpy as np\n",
    "X, y = [], []\n",
    "\n",
    "for label, images in images_dict.items():\n",
    "    for image in images:\n",
    "        img = cv2.imread(str(image))\n",
    "        resized_img = cv2.resize(img,(224,224))\n",
    "        #resized_img=resized_img.astype(np.uint8)\n",
    "        #resized_img=resized_img/np.max(resized_img)\n",
    "        X.append(resized_img)\n",
    "        y.append(labels_dict[label])"
   ]
  },
  {
   "cell_type": "code",
   "execution_count": 15,
   "metadata": {},
   "outputs": [],
   "source": [
    "import numpy \n",
    "X = numpy.array(X)\n",
    "y = numpy.array(y)"
   ]
  },
  {
   "cell_type": "code",
   "execution_count": 16,
   "metadata": {},
   "outputs": [],
   "source": [
    "from sklearn.model_selection import train_test_split\n",
    "X_train, X_test, y_train, y_test = train_test_split(X, y, test_size=0.2, random_state=15)"
   ]
  },
  {
   "cell_type": "code",
   "execution_count": 17,
   "metadata": {},
   "outputs": [],
   "source": [
    "X_train_scaled = X_train / 255\n",
    "X_test_scaled = X_test / 255"
   ]
  },
  {
   "cell_type": "code",
   "execution_count": 18,
   "metadata": {},
   "outputs": [],
   "source": [
    "feature_extractor_model = \"https://tfhub.dev/google/tf2-preview/mobilenet_v2/feature_vector/4\"\n",
    "\n",
    "pretrained_model_without_top_layer = hub.KerasLayer(\n",
    "    feature_extractor_model, input_shape=(224, 224, 3), trainable=False)"
   ]
  },
  {
   "cell_type": "code",
   "execution_count": 19,
   "metadata": {},
   "outputs": [
    {
     "name": "stdout",
     "output_type": "stream",
     "text": [
      "Model: \"sequential\"\n",
      "_________________________________________________________________\n",
      "Layer (type)                 Output Shape              Param #   \n",
      "=================================================================\n",
      "keras_layer (KerasLayer)     (None, 1280)              2257984   \n",
      "_________________________________________________________________\n",
      "dense (Dense)                (None, 4)                 5124      \n",
      "=================================================================\n",
      "Total params: 2,263,108\n",
      "Trainable params: 5,124\n",
      "Non-trainable params: 2,257,984\n",
      "_________________________________________________________________\n"
     ]
    }
   ],
   "source": [
    "import tensorflow as tf\n",
    "num_of_flowers = 4\n",
    "\n",
    "model = tf.keras.Sequential([\n",
    "  pretrained_model_without_top_layer,\n",
    "  tf.keras.layers.Dense(num_of_flowers)\n",
    "])\n",
    "\n",
    "model.summary()"
   ]
  },
  {
   "cell_type": "code",
   "execution_count": 20,
   "metadata": {},
   "outputs": [
    {
     "name": "stdout",
     "output_type": "stream",
     "text": [
      "Epoch 1/5\n",
      "100/100 [==============================] - 81s 751ms/step - loss: 0.7229 - acc: 0.7138\n",
      "Epoch 2/5\n",
      "100/100 [==============================] - 74s 744ms/step - loss: 0.4562 - acc: 0.8334\n",
      "Epoch 3/5\n",
      "100/100 [==============================] - 75s 747ms/step - loss: 0.3791 - acc: 0.8591\n",
      "Epoch 4/5\n",
      "100/100 [==============================] - 74s 743ms/step - loss: 0.3324 - acc: 0.8831\n",
      "Epoch 5/5\n",
      "100/100 [==============================] - 75s 746ms/step - loss: 0.3062 - acc: 0.8947\n"
     ]
    },
    {
     "data": {
      "text/plain": [
       "<keras.callbacks.History at 0x2156d5e51f0>"
      ]
     },
     "execution_count": 20,
     "metadata": {},
     "output_type": "execute_result"
    }
   ],
   "source": [
    "model.compile(\n",
    "  optimizer=\"adam\",\n",
    "  loss=tf.keras.losses.SparseCategoricalCrossentropy(from_logits=True),\n",
    "  metrics=['acc'])\n",
    "\n",
    "model.fit(X_train_scaled, y_train, epochs=5)"
   ]
  },
  {
   "cell_type": "code",
   "execution_count": 21,
   "metadata": {},
   "outputs": [
    {
     "name": "stdout",
     "output_type": "stream",
     "text": [
      "25/25 [==============================] - 19s 729ms/step - loss: 0.3357 - acc: 0.8675\n"
     ]
    },
    {
     "data": {
      "text/plain": [
       "[0.3356933891773224, 0.8675000071525574]"
      ]
     },
     "execution_count": 21,
     "metadata": {},
     "output_type": "execute_result"
    }
   ],
   "source": [
    "model.evaluate(X_test_scaled,y_test)"
   ]
  },
  {
   "cell_type": "code",
   "execution_count": 22,
   "metadata": {},
   "outputs": [
    {
     "name": "stdout",
     "output_type": "stream",
     "text": [
      "Epoch 1/10\n",
      "100/100 [==============================] - 74s 736ms/step - loss: 0.2826 - acc: 0.9038\n",
      "Epoch 2/10\n",
      "100/100 [==============================] - 73s 729ms/step - loss: 0.2653 - acc: 0.9038\n",
      "Epoch 3/10\n",
      "100/100 [==============================] - 68s 684ms/step - loss: 0.2515 - acc: 0.9137\n",
      "Epoch 4/10\n",
      "100/100 [==============================] - 75s 752ms/step - loss: 0.2280 - acc: 0.9287\n",
      "Epoch 5/10\n",
      "100/100 [==============================] - 77s 767ms/step - loss: 0.2195 - acc: 0.9259\n",
      "Epoch 6/10\n",
      "100/100 [==============================] - 76s 764ms/step - loss: 0.2047 - acc: 0.9375\n",
      "Epoch 7/10\n",
      "100/100 [==============================] - 76s 760ms/step - loss: 0.2047 - acc: 0.9359\n",
      "Epoch 8/10\n",
      "100/100 [==============================] - 76s 761ms/step - loss: 0.1853 - acc: 0.9441\n",
      "Epoch 9/10\n",
      "100/100 [==============================] - 76s 758ms/step - loss: 0.1800 - acc: 0.9466\n",
      "Epoch 10/10\n",
      "100/100 [==============================] - 61s 610ms/step - loss: 0.1718 - acc: 0.9513\n"
     ]
    },
    {
     "data": {
      "text/plain": [
       "<keras.callbacks.History at 0x215fdfffa00>"
      ]
     },
     "execution_count": 22,
     "metadata": {},
     "output_type": "execute_result"
    }
   ],
   "source": [
    "model.fit(X_train_scaled, y_train, epochs=10)"
   ]
  },
  {
   "cell_type": "code",
   "execution_count": 23,
   "metadata": {},
   "outputs": [
    {
     "name": "stdout",
     "output_type": "stream",
     "text": [
      "25/25 [==============================] - 11s 418ms/step - loss: 0.2849 - acc: 0.8975\n"
     ]
    },
    {
     "data": {
      "text/plain": [
       "[0.28489941358566284, 0.8974999785423279]"
      ]
     },
     "execution_count": 23,
     "metadata": {},
     "output_type": "execute_result"
    }
   ],
   "source": [
    "model.evaluate(X_test_scaled,y_test)"
   ]
  },
  {
   "cell_type": "code",
   "execution_count": null,
   "metadata": {},
   "outputs": [],
   "source": []
  }
 ],
 "metadata": {
  "kernelspec": {
   "display_name": "Python 3",
   "language": "python",
   "name": "python3"
  },
  "language_info": {
   "codemirror_mode": {
    "name": "ipython",
    "version": 3
   },
   "file_extension": ".py",
   "mimetype": "text/x-python",
   "name": "python",
   "nbconvert_exporter": "python",
   "pygments_lexer": "ipython3",
   "version": "3.8.3"
  }
 },
 "nbformat": 4,
 "nbformat_minor": 4
}
