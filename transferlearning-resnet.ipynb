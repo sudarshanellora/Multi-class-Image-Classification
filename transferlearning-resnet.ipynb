{
 "cells": [
  {
   "cell_type": "code",
   "execution_count": 1,
   "metadata": {},
   "outputs": [],
   "source": [
    "import cv2\n",
    "import os\n",
    "import PIL\n",
    "import tensorflow_hub as hub"
   ]
  },
  {
   "cell_type": "code",
   "execution_count": 2,
   "metadata": {},
   "outputs": [],
   "source": [
    "data_dir =r\"F:\\project\\COVID-19_Radiography_Dataset\\data\""
   ]
  },
  {
   "cell_type": "code",
   "execution_count": 3,
   "metadata": {},
   "outputs": [
    {
     "data": {
      "text/plain": [
       "WindowsPath('F:/project/COVID-19_Radiography_Dataset/data')"
      ]
     },
     "execution_count": 3,
     "metadata": {},
     "output_type": "execute_result"
    }
   ],
   "source": [
    "import pathlib\n",
    "data_dir = pathlib.Path(data_dir)\n",
    "data_dir"
   ]
  },
  {
   "cell_type": "code",
   "execution_count": 4,
   "metadata": {},
   "outputs": [
    {
     "data": {
      "text/plain": [
       "1000"
      ]
     },
     "execution_count": 4,
     "metadata": {},
     "output_type": "execute_result"
    }
   ],
   "source": [
    "import random \n",
    "COVID = list(data_dir.glob('COVID/*'))\n",
    "COVID = random.sample(COVID,1000)\n",
    "len(COVID)"
   ]
  },
  {
   "cell_type": "code",
   "execution_count": 5,
   "metadata": {},
   "outputs": [
    {
     "data": {
      "text/plain": [
       "1000"
      ]
     },
     "execution_count": 5,
     "metadata": {},
     "output_type": "execute_result"
    }
   ],
   "source": [
    "Lung_Opacity= list(data_dir.glob('Lung_Opacity/*'))\n",
    "Lung_Opacity = random.sample(Lung_Opacity,1000)\n",
    "len(Lung_Opacity)"
   ]
  },
  {
   "cell_type": "code",
   "execution_count": 6,
   "metadata": {},
   "outputs": [
    {
     "data": {
      "text/plain": [
       "1000"
      ]
     },
     "execution_count": 6,
     "metadata": {},
     "output_type": "execute_result"
    }
   ],
   "source": [
    "Normal = list(data_dir.glob('Normal/*'))\n",
    "Normal = random.sample(Normal,1000)\n",
    "len(Normal)"
   ]
  },
  {
   "cell_type": "code",
   "execution_count": 7,
   "metadata": {},
   "outputs": [
    {
     "data": {
      "text/plain": [
       "1000"
      ]
     },
     "execution_count": 7,
     "metadata": {},
     "output_type": "execute_result"
    }
   ],
   "source": [
    "Viral_Pneumonia = list(data_dir.glob('Viral Pneumonia/*'))\n",
    "Viral_Pneumonia = random.sample(Viral_Pneumonia,1000)\n",
    "len(Viral_Pneumonia)"
   ]
  },
  {
   "cell_type": "code",
   "execution_count": 8,
   "metadata": {},
   "outputs": [],
   "source": [
    "images_dict = {\n",
    "    'COVID': COVID,\n",
    "    'Lung_Opacity': Lung_Opacity,\n",
    "    'Normal': Normal,\n",
    "    'Viral_Pneumonia': Viral_Pneumonia,\n",
    "    \n",
    "}"
   ]
  },
  {
   "cell_type": "code",
   "execution_count": 9,
   "metadata": {},
   "outputs": [],
   "source": [
    "labels_dict = {\n",
    "    'COVID': 0,\n",
    "    'Lung_Opacity':1,\n",
    "    'Normal': 2,\n",
    "    'Viral_Pneumonia': 3,\n",
    "    \n",
    "}"
   ]
  },
  {
   "cell_type": "code",
   "execution_count": 10,
   "metadata": {},
   "outputs": [],
   "source": [
    "import numpy as np\n",
    "X, y = [], []\n",
    "\n",
    "for label, images in images_dict.items():\n",
    "    for image in images:\n",
    "        img = cv2.imread(str(image))\n",
    "        resized_img = cv2.resize(img,(224,224))\n",
    "        #resized_img=resized_img.astype(np.uint8)\n",
    "        #resized_img=resized_img/np.max(resized_img)\n",
    "        X.append(resized_img)\n",
    "        y.append(labels_dict[label])"
   ]
  },
  {
   "cell_type": "code",
   "execution_count": 11,
   "metadata": {},
   "outputs": [],
   "source": [
    "import numpy \n",
    "X = numpy.array(X)\n",
    "y = numpy.array(y)"
   ]
  },
  {
   "cell_type": "code",
   "execution_count": 12,
   "metadata": {},
   "outputs": [],
   "source": [
    "from sklearn.model_selection import train_test_split\n",
    "X_train, X_test, y_train, y_test = train_test_split(X, y, test_size=0.2, random_state=15)"
   ]
  },
  {
   "cell_type": "code",
   "execution_count": 13,
   "metadata": {},
   "outputs": [],
   "source": [
    "X_train_scaled = X_train / 255\n",
    "X_test_scaled = X_test / 255"
   ]
  },
  {
   "cell_type": "code",
   "execution_count": 14,
   "metadata": {},
   "outputs": [],
   "source": [
    "feature_extractor_model = \"https://tfhub.dev/tensorflow/resnet_50/classification/1\"\n",
    "\n",
    "pretrained_model_without_top_layer = hub.KerasLayer(\n",
    "    feature_extractor_model, input_shape=(224, 224, 3), trainable=False)"
   ]
  },
  {
   "cell_type": "code",
   "execution_count": 15,
   "metadata": {},
   "outputs": [
    {
     "name": "stdout",
     "output_type": "stream",
     "text": [
      "Model: \"sequential\"\n",
      "_________________________________________________________________\n",
      "Layer (type)                 Output Shape              Param #   \n",
      "=================================================================\n",
      "keras_layer (KerasLayer)     (None, 1001)              25612201  \n",
      "_________________________________________________________________\n",
      "dense (Dense)                (None, 4)                 4008      \n",
      "=================================================================\n",
      "Total params: 25,616,209\n",
      "Trainable params: 4,008\n",
      "Non-trainable params: 25,612,201\n",
      "_________________________________________________________________\n"
     ]
    }
   ],
   "source": [
    "import tensorflow as tf\n",
    "num_of_flowers = 4\n",
    "\n",
    "model = tf.keras.Sequential([\n",
    "  pretrained_model_without_top_layer,\n",
    "  tf.keras.layers.Dense(num_of_flowers)\n",
    "])\n",
    "\n",
    "model.summary()"
   ]
  },
  {
   "cell_type": "code",
   "execution_count": 16,
   "metadata": {},
   "outputs": [
    {
     "name": "stdout",
     "output_type": "stream",
     "text": [
      "Epoch 1/5\n",
      "100/100 [==============================] - 252s 2s/step - loss: 1.3743 - acc: 0.4547\n",
      "Epoch 2/5\n",
      "100/100 [==============================] - 231s 2s/step - loss: 1.3453 - acc: 0.6428\n",
      "Epoch 3/5\n",
      "100/100 [==============================] - 234s 2s/step - loss: 1.3179 - acc: 0.6634\n",
      "Epoch 4/5\n",
      "100/100 [==============================] - 236s 2s/step - loss: 1.2919 - acc: 0.6525\n",
      "Epoch 5/5\n",
      "100/100 [==============================] - 232s 2s/step - loss: 1.2672 - acc: 0.6556\n"
     ]
    },
    {
     "data": {
      "text/plain": [
       "<keras.callbacks.History at 0x27fe86f7f10>"
      ]
     },
     "execution_count": 16,
     "metadata": {},
     "output_type": "execute_result"
    }
   ],
   "source": [
    "model.compile(\n",
    "  optimizer=\"adam\",\n",
    "  loss=tf.keras.losses.SparseCategoricalCrossentropy(from_logits=True),\n",
    "  metrics=['acc'])\n",
    "\n",
    "model.fit(X_train_scaled, y_train, epochs=5)"
   ]
  },
  {
   "cell_type": "code",
   "execution_count": 17,
   "metadata": {},
   "outputs": [
    {
     "name": "stdout",
     "output_type": "stream",
     "text": [
      "25/25 [==============================] - 58s 2s/step - loss: 1.2541 - acc: 0.6737\n"
     ]
    },
    {
     "data": {
      "text/plain": [
       "[1.254119634628296, 0.6737499833106995]"
      ]
     },
     "execution_count": 17,
     "metadata": {},
     "output_type": "execute_result"
    }
   ],
   "source": [
    "model.evaluate(X_test_scaled,y_test)"
   ]
  },
  {
   "cell_type": "code",
   "execution_count": 18,
   "metadata": {},
   "outputs": [
    {
     "name": "stdout",
     "output_type": "stream",
     "text": [
      "Epoch 1/10\n",
      "100/100 [==============================] - 233s 2s/step - loss: 1.2437 - acc: 0.6622\n",
      "Epoch 2/10\n",
      "100/100 [==============================] - 223s 2s/step - loss: 1.2214 - acc: 0.6681\n",
      "Epoch 3/10\n",
      "100/100 [==============================] - 210s 2s/step - loss: 1.2002 - acc: 0.6750\n",
      "Epoch 4/10\n",
      "100/100 [==============================] - 212s 2s/step - loss: 1.1801 - acc: 0.6819\n",
      "Epoch 5/10\n",
      "100/100 [==============================] - 211s 2s/step - loss: 1.1609 - acc: 0.6756\n",
      "Epoch 6/10\n",
      "100/100 [==============================] - 211s 2s/step - loss: 1.1428 - acc: 0.6806\n",
      "Epoch 7/10\n",
      "100/100 [==============================] - 216s 2s/step - loss: 1.1256 - acc: 0.6847\n",
      "Epoch 8/10\n",
      "100/100 [==============================] - 215s 2s/step - loss: 1.1094 - acc: 0.6834\n",
      "Epoch 9/10\n",
      "100/100 [==============================] - 209s 2s/step - loss: 1.0939 - acc: 0.6837\n",
      "Epoch 10/10\n",
      "100/100 [==============================] - 219s 2s/step - loss: 1.0792 - acc: 0.6878\n"
     ]
    },
    {
     "data": {
      "text/plain": [
       "<keras.callbacks.History at 0x28088f47be0>"
      ]
     },
     "execution_count": 18,
     "metadata": {},
     "output_type": "execute_result"
    }
   ],
   "source": [
    "model.fit(X_train_scaled, y_train, epochs=10)"
   ]
  },
  {
   "cell_type": "code",
   "execution_count": 19,
   "metadata": {},
   "outputs": [
    {
     "name": "stdout",
     "output_type": "stream",
     "text": [
      "25/25 [==============================] - 50s 2s/step - loss: 1.0673 - acc: 0.7013\n"
     ]
    },
    {
     "data": {
      "text/plain": [
       "[1.067314863204956, 0.7012500166893005]"
      ]
     },
     "execution_count": 19,
     "metadata": {},
     "output_type": "execute_result"
    }
   ],
   "source": [
    "model.evaluate(X_test_scaled,y_test)"
   ]
  },
  {
   "cell_type": "code",
   "execution_count": null,
   "metadata": {},
   "outputs": [],
   "source": []
  }
 ],
 "metadata": {
  "kernelspec": {
   "display_name": "Python 3",
   "language": "python",
   "name": "python3"
  },
  "language_info": {
   "codemirror_mode": {
    "name": "ipython",
    "version": 3
   },
   "file_extension": ".py",
   "mimetype": "text/x-python",
   "name": "python",
   "nbconvert_exporter": "python",
   "pygments_lexer": "ipython3",
   "version": "3.8.3"
  }
 },
 "nbformat": 4,
 "nbformat_minor": 4
}
